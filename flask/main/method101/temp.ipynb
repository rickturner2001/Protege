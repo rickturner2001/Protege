{
 "cells": [
  {
   "cell_type": "code",
   "execution_count": 33,
   "metadata": {},
   "outputs": [
    {
     "name": "stdout",
     "output_type": "stream",
     "text": [
      "[*********************100%***********************]  1 of 1 completed\n"
     ]
    }
   ],
   "source": [
    "\n",
    "import pandas as pd\n",
    "import yfinance as yf\n",
    "import matplotlib.pyplot as plt\n",
    "\n",
    "\n",
    "sp500 = yf.download(\"^GSPC\", start=\"2012-04-30\", end=\"2022-04-01\", interval=\"1d\")\n",
    "df = pd.read_csv(\"sefi.csv\")\n",
    "df.index = df[list(df.columns)[0]]\n",
    "df.drop(list(df.columns)[0], axis=1, inplace=True)\n",
    "df.index.name = \"date\"\n",
    "\n",
    "negative_sefi_value = df[df['Entry'] < 0]\n",
    "\n",
    "# print(dir(df.index))\n",
    "\n",
    "def position_return(index_location, df, holding):\n",
    "    if index_location  + holding <= (len(sp500) - 1):\n",
    "        start = df.iloc[index_location]\n",
    "        end =  df.iloc[index_location + holding]\n",
    "    else:\n",
    "        start= df.iloc[index_location]\n",
    "        end = df.iloc[-1]\n",
    "    total_return =  round(((end['Close'] - start[\"Close\"]) / end['Close']) * 100, 2)\n",
    "    return total_return\n",
    "data = {}\n",
    "for i in range(1, 30):\n",
    "    data[i] = []\n",
    "    for date in negative_sefi_value.index:\n",
    "\n",
    "        index_location = sp500.index.get_loc(date)\n",
    "        total_return = position_return(index_location, sp500, i)\n",
    "        data[i].append(total_return)"
   ]
  },
  {
   "cell_type": "code",
   "execution_count": 34,
   "metadata": {},
   "outputs": [],
   "source": [
    "import numpy as np\n",
    "\n",
    "analysis_data = {}\n",
    "\n",
    "for d in data:\n",
    "    analysis_data[d] = {}\n",
    "    analysis_data[d]['max_return'] = max(data[d])\n",
    "    analysis_data[d]['min_return'] = min(data[d])\n",
    "    analysis_data[d]['mean'] = np.array(data[d]).mean()\n",
    "    analysis_data[d]['positivity_pct'] = len([i for i in data[d] if i > 0]) / len(data[d] ) * 100\n",
    "    analysis_data[d]['negativity_pct'] = len([i for i in data[d] if i < 0]) / len(data[d] ) * 100\n",
    "    analysis_data[d]['positive_mean_val'] = np.array([i for i in data[d] if i > 0]).mean()\n",
    "    analysis_data[d]['negative_mean_val'] = np.array([i for i in data[d] if i < 0]).mean()"
   ]
  },
  {
   "cell_type": "code",
   "execution_count": 36,
   "metadata": {},
   "outputs": [],
   "source": [
    "positivity_pcts = [analysis_data[d]['positivity_pct'] for d in analysis_data]"
   ]
  },
  {
   "cell_type": "code",
   "execution_count": 41,
   "metadata": {},
   "outputs": [],
   "source": [
    "def filter_valid_data(analysis_data):\n",
    "    valid_data = {}\n",
    "    for d in analysis_data:\n",
    "\n",
    "        if analysis_data[d][\"min_return\"] > -5 and analysis_data[d][\"positivity_pct\"] >= 75 and analysis_data[d][\"min_return\"]:\n",
    "            valid_data[d] = analysis_data[d]\n",
    "    return valid_data"
   ]
  },
  {
   "cell_type": "code",
   "execution_count": 46,
   "metadata": {},
   "outputs": [],
   "source": [
    "data = filter_valid_data(analysis_data)"
   ]
  },
  {
   "cell_type": "code",
   "execution_count": 47,
   "metadata": {},
   "outputs": [],
   "source": [
    "sorted_vals = sorted(data, key=lambda x: data[x]['max_return'], reverse=True)"
   ]
  },
  {
   "cell_type": "code",
   "execution_count": 50,
   "metadata": {},
   "outputs": [
    {
     "name": "stdout",
     "output_type": "stream",
     "text": [
      "21\n",
      "max_return   10.87\n",
      "min_return   -4.55\n",
      "mean   2.2220967741935485\n",
      "positivity_pct   79.03225806451613\n",
      "negativity_pct   20.967741935483872\n",
      "positive_mean_val   3.1889795918367345\n",
      "negative_mean_val   -1.4223076923076925\n",
      "22\n",
      "max_return   10.19\n",
      "min_return   -4.0\n",
      "mean   2.1433870967741933\n",
      "positivity_pct   79.03225806451613\n",
      "negativity_pct   20.967741935483872\n",
      "positive_mean_val   3.1299999999999994\n",
      "negative_mean_val   -1.5753846153846154\n",
      "20\n",
      "max_return   9.79\n",
      "min_return   -4.61\n",
      "mean   2.1162903225806446\n",
      "positivity_pct   75.80645161290323\n",
      "negativity_pct   24.193548387096776\n",
      "positive_mean_val   3.213829787234042\n",
      "negative_mean_val   -1.3226666666666664\n",
      "19\n",
      "max_return   9.35\n",
      "min_return   -2.58\n",
      "mean   2.2249999999999996\n",
      "positivity_pct   80.64516129032258\n",
      "negativity_pct   19.35483870967742\n",
      "positive_mean_val   3.0453999999999994\n",
      "negative_mean_val   -1.1933333333333334\n",
      "18\n",
      "max_return   8.26\n",
      "min_return   -4.5\n",
      "mean   2.086774193548387\n",
      "positivity_pct   77.41935483870968\n",
      "negativity_pct   22.58064516129032\n",
      "positive_mean_val   3.0695833333333336\n",
      "negative_mean_val   -1.282857142857143\n",
      "9\n",
      "max_return   5.91\n",
      "min_return   -3.23\n",
      "mean   1.243064516129032\n",
      "positivity_pct   79.03225806451613\n",
      "negativity_pct   20.967741935483872\n",
      "positive_mean_val   1.8257142857142856\n",
      "negative_mean_val   -0.9530769230769232\n",
      "10\n",
      "max_return   5.31\n",
      "min_return   -2.48\n",
      "mean   1.442741935483871\n",
      "positivity_pct   79.03225806451613\n",
      "negativity_pct   20.967741935483872\n",
      "positive_mean_val   2.065918367346939\n",
      "negative_mean_val   -0.9061538461538462\n",
      "12\n",
      "max_return   4.49\n",
      "min_return   -3.34\n",
      "mean   1.4491935483870966\n",
      "positivity_pct   75.80645161290323\n",
      "negativity_pct   24.193548387096776\n",
      "positive_mean_val   2.2559574468085106\n",
      "negative_mean_val   -1.0786666666666667\n",
      "11\n",
      "max_return   4.33\n",
      "min_return   -3.65\n",
      "mean   1.4767741935483871\n",
      "positivity_pct   79.03225806451613\n",
      "negativity_pct   20.967741935483872\n",
      "positive_mean_val   2.126122448979592\n",
      "negative_mean_val   -0.9707692307692308\n"
     ]
    }
   ],
   "source": [
    "for val in sorted_vals:\n",
    "    print(val)\n",
    "    for key in data[val]:\n",
    "        print(key, \" \", data[val][key])"
   ]
  },
  {
   "cell_type": "code",
   "execution_count": null,
   "metadata": {},
   "outputs": [],
   "source": []
  }
 ],
 "metadata": {
  "interpreter": {
   "hash": "47ec22ae2488d22a12f5b4855af2ef9e03920fab7e70469b9a31f192eb05788f"
  },
  "kernelspec": {
   "display_name": "Python 3.10.4 ('nsdma')",
   "language": "python",
   "name": "python3"
  },
  "language_info": {
   "codemirror_mode": {
    "name": "ipython",
    "version": 3
   },
   "file_extension": ".py",
   "mimetype": "text/x-python",
   "name": "python",
   "nbconvert_exporter": "python",
   "pygments_lexer": "ipython3",
   "version": "3.10.4"
  },
  "orig_nbformat": 4
 },
 "nbformat": 4,
 "nbformat_minor": 2
}
